{
 "cells": [
  {
   "cell_type": "markdown",
   "metadata": {},
   "source": [
    "## Exploration - EDA\n",
    "\n",
    "use the learned representation to develop a visualization of the items and users, e.g., using T-SNE or UMAP. The visualization should somehow integrate additional information (features, metadata, or genre tags) to illustrate how items are distributed in the learned space."
   ]
  },
  {
   "cell_type": "code",
   "execution_count": 1,
   "metadata": {
    "scrolled": true
   },
   "outputs": [],
   "source": [
    "#pip install --pre umap-learn"
   ]
  },
  {
   "cell_type": "markdown",
   "metadata": {},
   "source": [
    "### Setup packages and enviornment"
   ]
  },
  {
   "cell_type": "code",
   "execution_count": 2,
   "metadata": {},
   "outputs": [],
   "source": [
    "# import pyspark as spark\n",
    "\n",
    "import os\n",
    "import sqlite3\n",
    "\n",
    "import pandas as pd\n",
    "import numpy as np\n",
    "import itertools\n",
    "from collections import Counter\n",
    "\n",
    "from pyspark.sql import functions as F\n",
    "from pyspark.sql.types import IntegerType\n",
    "import umap\n",
    "import umap.plot\n",
    "import matplotlib.pyplot as plt\n",
    "import time\n",
    "import datetime\n",
    "\n",
    "# from IPython.display import display\n",
    "# import matplotlib.pyplot as plt\n",
    "from pyspark.sql import SparkSession"
   ]
  },
  {
   "cell_type": "code",
   "execution_count": 3,
   "metadata": {},
   "outputs": [],
   "source": [
    "import dask\n",
    "import dask.bag as db\n",
    "import dask.dataframe as dd\n",
    "from distributed import Client\n",
    "from dask_jobqueue import SLURMCluster"
   ]
  },
  {
   "cell_type": "code",
   "execution_count": 4,
   "metadata": {},
   "outputs": [
    {
     "data": {
      "text/html": [
       "<table style=\"border: 2px solid white;\">\n",
       "<tr>\n",
       "<td style=\"vertical-align: top; border: 0px solid white\">\n",
       "<h3 style=\"text-align: left;\">Client</h3>\n",
       "<ul style=\"text-align: left; list-style: none; margin: 0; padding: 0;\">\n",
       "  <li><b>Scheduler: </b>tcp://127.0.0.1:40649</li>\n",
       "  <li><b>Dashboard: </b><a href='http://127.0.0.1:8787/status' target='_blank'>http://127.0.0.1:8787/status</a></li>\n",
       "</ul>\n",
       "</td>\n",
       "<td style=\"vertical-align: top; border: 0px solid white\">\n",
       "<h3 style=\"text-align: left;\">Cluster</h3>\n",
       "<ul style=\"text-align: left; list-style:none; margin: 0; padding: 0;\">\n",
       "  <li><b>Workers: </b>1</li>\n",
       "  <li><b>Cores: </b>1</li>\n",
       "  <li><b>Memory: </b>32.00 GiB</li>\n",
       "</ul>\n",
       "</td>\n",
       "</tr>\n",
       "</table>"
      ],
      "text/plain": [
       "<Client: 'tcp://127.0.0.1:40649' processes=1 threads=1, memory=32.00 GiB>"
      ]
     },
     "metadata": {},
     "output_type": "display_data"
    }
   ],
   "source": [
    "# Set LOCAL to True for single-machine execution while developing\n",
    "# Set LOCAL to False for cluster execution\n",
    "LOCAL = True\n",
    "\n",
    "if LOCAL:\n",
    "    # This line creates a single-machine dask client\n",
    "    client = Client()\n",
    "else:    \n",
    "    # This line creates a SLURM cluster dask and dask client\n",
    "    # Logging outputs will be stored in /scratch/{your-netid}\n",
    "    \n",
    "    cluster = SLURMCluster(memory='4GB', cores=2, python='/scratch/work/public/dask/bin/python', \n",
    "                               local_directory='/tmp/{}/'.format(os.environ['SLURM_JOB_USER']),\n",
    "                               job_extra=['--output=/scratch/{}/slurm-%j.out'.format(os.environ['SLURM_JOB_USER'])])\n",
    "\n",
    "    cluster.submit_command = 'slurm'\n",
    "    cluster.scale(100)\n",
    "\n",
    "    display(cluster)\n",
    "    client = Client(cluster)\n",
    "\n",
    "display(client)"
   ]
  },
  {
   "cell_type": "code",
   "execution_count": 5,
   "metadata": {},
   "outputs": [],
   "source": [
    "# Setup and configure spark session\n",
    "spark = SparkSession.builder \\\n",
    "  .master(\"local\") \\\n",
    "  .appName(\"parquet_example\") \\\n",
    "  .config('spark.sql.execution.arrow.pyspark.enabled', True) \\\n",
    "  .config('spark.sql.session.timeZone', 'UTC') \\\n",
    "  .config('spark.driver.memory','32G') \\\n",
    "  .config('spark.ui.showConsoleProgress', True) \\\n",
    "  .config('spark.sql.repl.eagerEval.enabled', True) \\\n",
    "  .getOrCreate()\n",
    "\n",
    "# Enable Arrow-based columnar data\n",
    "spark.conf.set(\"spark.sql.execution.arrow.pyspark.enabled\", \"true\")"
   ]
  },
  {
   "cell_type": "markdown",
   "metadata": {},
   "source": [
    "### Load data and data cleaning"
   ]
  },
  {
   "cell_type": "markdown",
   "metadata": {},
   "source": [
    "#### Import data"
   ]
  },
  {
   "cell_type": "code",
   "execution_count": 6,
   "metadata": {},
   "outputs": [],
   "source": [
    "# Read data from hdfs\n",
    "df_val = spark.read.parquet('/scratch/work/courses/DSGA1004-2021/MSD/cf_validation.parquet')\n",
    "df_test = spark.read.parquet('/scratch/work/courses/DSGA1004-2021/MSD/cf_test.parquet')\n",
    "df_train = spark.read.parquet('/scratch/work/courses/DSGA1004-2021/MSD/cf_train_new.parquet')\n",
    "#spark.read.parquet('/scratch/work/courses/DSGA1004-2021/MSD/AdditionalFiles')\n",
    "\n",
    "# Union all training+val+test data\n",
    "df = df_test.unionAll(df_val).unionAll(df_train)"
   ]
  },
  {
   "cell_type": "code",
   "execution_count": 7,
   "metadata": {},
   "outputs": [],
   "source": [
    "# Read track metadata\n",
    "conn = sqlite3.connect(\"/scratch/work/courses/DSGA1004-2021/MSD/AdditionalFiles/track_metadata.db\")\n",
    "cur = conn.cursor()\n",
    "df_meta = pd.read_sql_query(\"SELECT * FROM songs\", conn)\n",
    "cur.close()\n",
    "conn.close()"
   ]
  },
  {
   "cell_type": "code",
   "execution_count": 8,
   "metadata": {},
   "outputs": [],
   "source": [
    "# read artist data\n",
    "# There are already many information readily available in the metadata about artists\n",
    "conn = sqlite3.connect(\"/scratch/work/courses/DSGA1004-2021/MSD/AdditionalFiles/artist_term.db\")\n",
    "cur = conn.cursor()\n",
    "df_artterm = pd.read_sql_query(\"SELECT * FROM artist_term\", conn)\n",
    "df_artmbt = pd.read_sql_query(\"SELECT * FROM artist_mbtag\", conn)\n",
    "# df_mbt = pd.read_sql_query(\"SELECT * FROM mbtags\", conn)\n",
    "# df_term = pd.read_sql_query(\"SELECT * FROM terms\", conn)\n",
    "# df_artist = pd.read_sql_query(\"SELECT * FROM artists\", conn)\n",
    "cur.close()\n",
    "conn.close()"
   ]
  },
  {
   "cell_type": "code",
   "execution_count": 9,
   "metadata": {},
   "outputs": [],
   "source": [
    "# read tag data\n",
    "conn = sqlite3.connect(\"/scratch/work/courses/DSGA1004-2021/MSD/AdditionalFiles/lastfm_tags.db\")\n",
    "cur = conn.cursor()\n",
    "df_tags = pd.read_sql_query(\"SELECT * FROM tags\", conn)\n",
    "df_tidtag = pd.read_sql_query(\"SELECT * FROM tid_tag\", conn)\n",
    "df_tid = pd.read_sql_query(\"SELECT * FROM tids\", conn)\n",
    "cur.close()\n",
    "conn.close()"
   ]
  },
  {
   "cell_type": "code",
   "execution_count": 10,
   "metadata": {},
   "outputs": [],
   "source": [
    "# read song data\n",
    "# I don't think there are any tags/ features related to a song_id readily available in the /AdditionalFiles?"
   ]
  },
  {
   "cell_type": "code",
   "execution_count": 11,
   "metadata": {},
   "outputs": [],
   "source": [
    "# rename keys for table merging\n",
    "df_tidtag.columns = ['tid_num','tag_num','val']\n",
    "df_tags.index.names = ['tag_num']\n",
    "df_tid.index.names = ['tid_num']\n",
    "df_meta.rename(columns={'track_id':'tid'}, inplace=True)"
   ]
  },
  {
   "cell_type": "markdown",
   "metadata": {},
   "source": [
    "#### Cleaning artist data"
   ]
  },
  {
   "cell_type": "code",
   "execution_count": 12,
   "metadata": {
    "scrolled": true
   },
   "outputs": [],
   "source": [
    "df_artterm = pd.DataFrame(df_artterm.groupby('artist_id')['term'].apply(list))"
   ]
  },
  {
   "cell_type": "code",
   "execution_count": 13,
   "metadata": {},
   "outputs": [],
   "source": [
    "# Many artists have multiple mbtags and many have none\n",
    "# Total # of artists with at least one mbtag: 8838\n",
    "df_artmbt = pd.DataFrame(df_artmbt.groupby('artist_id')['mbtag'].apply(list))"
   ]
  },
  {
   "cell_type": "code",
   "execution_count": 14,
   "metadata": {
    "scrolled": true
   },
   "outputs": [],
   "source": [
    "df_artists = pd.merge(\n",
    "    df_artterm,\n",
    "    df_artmbt,\n",
    "    how = 'outer',\n",
    "    on = 'artist_id',\n",
    "    sort = False)\n",
    "# rename columns\n",
    "df_artists.columns = ['artist_term', 'artist_mbtag']"
   ]
  },
  {
   "cell_type": "markdown",
   "metadata": {},
   "source": [
    "#### Cleaning genre tag data"
   ]
  },
  {
   "cell_type": "code",
   "execution_count": 15,
   "metadata": {},
   "outputs": [],
   "source": [
    "# Since pandas df index start from 0, \n",
    "# we subtract both track_id and tag_id by 1 to match the default index of pandas df\n",
    "df_tidtag['tid_num'] -= 1\n",
    "df_tidtag['tag_num'] -= 1"
   ]
  },
  {
   "cell_type": "code",
   "execution_count": 16,
   "metadata": {},
   "outputs": [],
   "source": [
    "# merge tags and track id\n",
    "df_all = pd.merge(\n",
    "    df_tidtag,\n",
    "    df_tags,\n",
    "    how = 'outer',\n",
    "    on = 'tag_num',\n",
    "    sort = False)\n",
    "\n",
    "df_all = pd.merge(\n",
    "    df_all,\n",
    "    df_tid,\n",
    "    how = 'outer',\n",
    "    on = 'tid_num',\n",
    "    sort = False)"
   ]
  },
  {
   "cell_type": "code",
   "execution_count": 17,
   "metadata": {
    "scrolled": false
   },
   "outputs": [],
   "source": [
    "# get a list of [(genre, val(in %))] pairs for each track\n",
    "df_all = pd.DataFrame(df_all.groupby('tid')[['tag', 'val']].apply(lambda g: dict(map(tuple, g.values.tolist()))))"
   ]
  },
  {
   "cell_type": "code",
   "execution_count": 18,
   "metadata": {},
   "outputs": [],
   "source": [
    "# rename the column\n",
    "df_all.columns = ['track_genre_val']"
   ]
  },
  {
   "cell_type": "markdown",
   "metadata": {},
   "source": [
    "#### Merging artist, genre tag data with metadata"
   ]
  },
  {
   "cell_type": "code",
   "execution_count": 19,
   "metadata": {},
   "outputs": [],
   "source": [
    "# merge metadata with track tags\n",
    "df_meta = pd.merge(\n",
    "    df_meta,\n",
    "    df_all,\n",
    "    how = 'outer',\n",
    "    on = 'tid',\n",
    "    sort = False)"
   ]
  },
  {
   "cell_type": "code",
   "execution_count": 20,
   "metadata": {},
   "outputs": [],
   "source": [
    "# merge metadata with artist mbtag and term\n",
    "df_meta = pd.merge(\n",
    "    df_meta,\n",
    "    df_artists,\n",
    "    how = 'outer',\n",
    "    on = 'artist_id',\n",
    "    sort = False)"
   ]
  },
  {
   "cell_type": "code",
   "execution_count": 21,
   "metadata": {},
   "outputs": [],
   "source": [
    "# rename column for ease of merging\n",
    "df_meta.rename(columns={'tid':'track_id'}, inplace=True)"
   ]
  },
  {
   "cell_type": "markdown",
   "metadata": {},
   "source": [
    "#### Sampling and cleaning training+val+test data for plotting"
   ]
  },
  {
   "cell_type": "code",
   "execution_count": 22,
   "metadata": {},
   "outputs": [],
   "source": [
    "# random sampling 400k samples from the entire dataset\n",
    "# df_train.toPandas induces error because df_train too large (2m pyspark df)\n",
    "df_samp = df.sample(False, 0.1, seed=66).limit(400000)"
   ]
  },
  {
   "cell_type": "code",
   "execution_count": 23,
   "metadata": {},
   "outputs": [],
   "source": [
    "# convert to pandas df\n",
    "samp_array = df_samp.collect()\n",
    "df_samp = df_samp.toPandas()"
   ]
  },
  {
   "cell_type": "code",
   "execution_count": 24,
   "metadata": {},
   "outputs": [],
   "source": [
    "# merge to get df for plot\n",
    "df_plot = pd.merge(\n",
    "    df_meta,\n",
    "    df_samp,\n",
    "    how = 'inner',\n",
    "    on = 'track_id',\n",
    "    sort = False)"
   ]
  },
  {
   "cell_type": "code",
   "execution_count": 25,
   "metadata": {
    "scrolled": true
   },
   "outputs": [
    {
     "data": {
      "text/html": [
       "<div>\n",
       "<style scoped>\n",
       "    .dataframe tbody tr th:only-of-type {\n",
       "        vertical-align: middle;\n",
       "    }\n",
       "\n",
       "    .dataframe tbody tr th {\n",
       "        vertical-align: top;\n",
       "    }\n",
       "\n",
       "    .dataframe thead th {\n",
       "        text-align: right;\n",
       "    }\n",
       "</style>\n",
       "<table border=\"1\" class=\"dataframe\">\n",
       "  <thead>\n",
       "    <tr style=\"text-align: right;\">\n",
       "      <th></th>\n",
       "      <th>track_id</th>\n",
       "      <th>title</th>\n",
       "      <th>song_id</th>\n",
       "      <th>release</th>\n",
       "      <th>artist_id</th>\n",
       "      <th>artist_mbid</th>\n",
       "      <th>artist_name</th>\n",
       "      <th>duration</th>\n",
       "      <th>artist_familiarity</th>\n",
       "      <th>artist_hotttnesss</th>\n",
       "      <th>year</th>\n",
       "      <th>track_genre_val</th>\n",
       "      <th>artist_term</th>\n",
       "      <th>artist_mbtag</th>\n",
       "      <th>user_id</th>\n",
       "      <th>count</th>\n",
       "    </tr>\n",
       "  </thead>\n",
       "  <tbody>\n",
       "    <tr>\n",
       "      <th>0</th>\n",
       "      <td>TRMRSPR128F1486162</td>\n",
       "      <td>Friends (LP Version)</td>\n",
       "      <td>SOIASSQ12A6D4FA5A4</td>\n",
       "      <td>Whipped</td>\n",
       "      <td>ARYZTJS1187B98C555</td>\n",
       "      <td>357ff05d-848a-44cf-b608-cb34b5701ae5</td>\n",
       "      <td>Faster Pussycat</td>\n",
       "      <td>287.81669</td>\n",
       "      <td>0.649822</td>\n",
       "      <td>0.394032</td>\n",
       "      <td>NaN</td>\n",
       "      <td>{'80s': 25.0, 'rock': 100.0, 'hard rock': 100....</td>\n",
       "      <td>[heavy metal, industrial metal, hard rock, gla...</td>\n",
       "      <td>NaN</td>\n",
       "      <td>f499a469fdf0f01a114eff3ffc45f07eb1038211</td>\n",
       "      <td>1</td>\n",
       "    </tr>\n",
       "    <tr>\n",
       "      <th>1</th>\n",
       "      <td>TRWMLGY128F148A1C3</td>\n",
       "      <td>Shooting You Down (LP Version)</td>\n",
       "      <td>SOYXZOF12A6D4F96AC</td>\n",
       "      <td>Rhino Hi-Five: Faster Pussycat</td>\n",
       "      <td>ARYZTJS1187B98C555</td>\n",
       "      <td>357ff05d-848a-44cf-b608-cb34b5701ae5</td>\n",
       "      <td>Faster Pussycat</td>\n",
       "      <td>227.94404</td>\n",
       "      <td>0.649822</td>\n",
       "      <td>0.394032</td>\n",
       "      <td>NaN</td>\n",
       "      <td>{'rock': 50.0, 'hard rock': 100.0, 'hair metal...</td>\n",
       "      <td>[heavy metal, industrial metal, hard rock, gla...</td>\n",
       "      <td>NaN</td>\n",
       "      <td>565a013a24c2ec710ff6611187389b6b92251bfb</td>\n",
       "      <td>1</td>\n",
       "    </tr>\n",
       "    <tr>\n",
       "      <th>2</th>\n",
       "      <td>TRWBHIN128F425A381</td>\n",
       "      <td>Arizona Indian Doll</td>\n",
       "      <td>SOMLCSC12A8C139300</td>\n",
       "      <td>Between The Valley Of The Ultra Pussy</td>\n",
       "      <td>ARYZTJS1187B98C555</td>\n",
       "      <td>357ff05d-848a-44cf-b608-cb34b5701ae5</td>\n",
       "      <td>Faster Pussycat</td>\n",
       "      <td>265.16853</td>\n",
       "      <td>0.649822</td>\n",
       "      <td>0.394032</td>\n",
       "      <td>1989.0</td>\n",
       "      <td>{'80s': 27.0, 'rock': 63.0, 'rock n roll': 18....</td>\n",
       "      <td>[heavy metal, industrial metal, hard rock, gla...</td>\n",
       "      <td>NaN</td>\n",
       "      <td>5411bf5ca6fa50a504bce1ef7d44c5f2ae4638ca</td>\n",
       "      <td>1</td>\n",
       "    </tr>\n",
       "    <tr>\n",
       "      <th>3</th>\n",
       "      <td>TRHZAVC128F148A1C4</td>\n",
       "      <td>House Of Pain (LP Version)</td>\n",
       "      <td>SOSMFOK12A58A7FE92</td>\n",
       "      <td>Rhino Hi-Five: Faster Pussycat</td>\n",
       "      <td>ARYZTJS1187B98C555</td>\n",
       "      <td>357ff05d-848a-44cf-b608-cb34b5701ae5</td>\n",
       "      <td>Faster Pussycat</td>\n",
       "      <td>344.65914</td>\n",
       "      <td>0.649822</td>\n",
       "      <td>0.394032</td>\n",
       "      <td>NaN</td>\n",
       "      <td>{'70s': 0.0, '80s': 66.0, 'rock': 100.0, 'meta...</td>\n",
       "      <td>[heavy metal, industrial metal, hard rock, gla...</td>\n",
       "      <td>NaN</td>\n",
       "      <td>8b037ca0e5d30e7ef25b5463b9c82973f5c750ea</td>\n",
       "      <td>1</td>\n",
       "    </tr>\n",
       "    <tr>\n",
       "      <th>4</th>\n",
       "      <td>TRHZAVC128F148A1C4</td>\n",
       "      <td>House Of Pain (LP Version)</td>\n",
       "      <td>SOSMFOK12A58A7FE92</td>\n",
       "      <td>Rhino Hi-Five: Faster Pussycat</td>\n",
       "      <td>ARYZTJS1187B98C555</td>\n",
       "      <td>357ff05d-848a-44cf-b608-cb34b5701ae5</td>\n",
       "      <td>Faster Pussycat</td>\n",
       "      <td>344.65914</td>\n",
       "      <td>0.649822</td>\n",
       "      <td>0.394032</td>\n",
       "      <td>NaN</td>\n",
       "      <td>{'70s': 0.0, '80s': 66.0, 'rock': 100.0, 'meta...</td>\n",
       "      <td>[heavy metal, industrial metal, hard rock, gla...</td>\n",
       "      <td>NaN</td>\n",
       "      <td>297fe67d7b1d8a8b1cdb78ab5239203a39a2a3a0</td>\n",
       "      <td>2</td>\n",
       "    </tr>\n",
       "    <tr>\n",
       "      <th>...</th>\n",
       "      <td>...</td>\n",
       "      <td>...</td>\n",
       "      <td>...</td>\n",
       "      <td>...</td>\n",
       "      <td>...</td>\n",
       "      <td>...</td>\n",
       "      <td>...</td>\n",
       "      <td>...</td>\n",
       "      <td>...</td>\n",
       "      <td>...</td>\n",
       "      <td>...</td>\n",
       "      <td>...</td>\n",
       "      <td>...</td>\n",
       "      <td>...</td>\n",
       "      <td>...</td>\n",
       "      <td>...</td>\n",
       "    </tr>\n",
       "    <tr>\n",
       "      <th>399995</th>\n",
       "      <td>TRYDBBR128F9302860</td>\n",
       "      <td>Rich In Paradise</td>\n",
       "      <td>SOUMVOX12AB018298E</td>\n",
       "      <td>The Very Best of Euphoric Dance Breakdown 2009</td>\n",
       "      <td>AR9O38K1187B992141</td>\n",
       "      <td>d78ef6fc-df19-4ba2-8336-cbb1d5aa7777</td>\n",
       "      <td>FPI Project</td>\n",
       "      <td>348.10730</td>\n",
       "      <td>0.478736</td>\n",
       "      <td>0.361698</td>\n",
       "      <td>1990.0</td>\n",
       "      <td>{'pop': 8.0, 'cool': 0.0, '90s': 41.0, 'female...</td>\n",
       "      <td>[italian disco, europop, new beat, disco, deep...</td>\n",
       "      <td>NaN</td>\n",
       "      <td>ef680f70b767dddfc108654300217e0940e82692</td>\n",
       "      <td>10</td>\n",
       "    </tr>\n",
       "    <tr>\n",
       "      <th>399996</th>\n",
       "      <td>TRYXGDO128F932A05C</td>\n",
       "      <td>Save me from my curse (cursed by unterart)</td>\n",
       "      <td>SOVWYWX12AB0184239</td>\n",
       "      <td>Save Me From My Curse</td>\n",
       "      <td>ARUTHLE11F4C842002</td>\n",
       "      <td>bdf0ea1e-48df-4445-a6c6-8ab5913bd9c3</td>\n",
       "      <td>Rabia Sorda</td>\n",
       "      <td>287.58159</td>\n",
       "      <td>0.593110</td>\n",
       "      <td>0.547334</td>\n",
       "      <td>NaN</td>\n",
       "      <td>{'industrial': 66.0, 'Gothic': 33.0, 'dark ele...</td>\n",
       "      <td>[hip hop, pop, indie rock, indie, guitar]</td>\n",
       "      <td>NaN</td>\n",
       "      <td>34ed37fd8aa3d83a6df5ee8e728922087ac98e45</td>\n",
       "      <td>3</td>\n",
       "    </tr>\n",
       "    <tr>\n",
       "      <th>399997</th>\n",
       "      <td>TRYXGDO128F932A05C</td>\n",
       "      <td>Save me from my curse (cursed by unterart)</td>\n",
       "      <td>SOVWYWX12AB0184239</td>\n",
       "      <td>Save Me From My Curse</td>\n",
       "      <td>ARUTHLE11F4C842002</td>\n",
       "      <td>bdf0ea1e-48df-4445-a6c6-8ab5913bd9c3</td>\n",
       "      <td>Rabia Sorda</td>\n",
       "      <td>287.58159</td>\n",
       "      <td>0.593110</td>\n",
       "      <td>0.547334</td>\n",
       "      <td>NaN</td>\n",
       "      <td>{'industrial': 66.0, 'Gothic': 33.0, 'dark ele...</td>\n",
       "      <td>[hip hop, pop, indie rock, indie, guitar]</td>\n",
       "      <td>NaN</td>\n",
       "      <td>2a28525fe64e492b81184d22877cca8220bb157c</td>\n",
       "      <td>1</td>\n",
       "    </tr>\n",
       "    <tr>\n",
       "      <th>399998</th>\n",
       "      <td>TRYXGDO128F932A05C</td>\n",
       "      <td>Save me from my curse (cursed by unterart)</td>\n",
       "      <td>SOVWYWX12AB0184239</td>\n",
       "      <td>Save Me From My Curse</td>\n",
       "      <td>ARUTHLE11F4C842002</td>\n",
       "      <td>bdf0ea1e-48df-4445-a6c6-8ab5913bd9c3</td>\n",
       "      <td>Rabia Sorda</td>\n",
       "      <td>287.58159</td>\n",
       "      <td>0.593110</td>\n",
       "      <td>0.547334</td>\n",
       "      <td>NaN</td>\n",
       "      <td>{'industrial': 66.0, 'Gothic': 33.0, 'dark ele...</td>\n",
       "      <td>[hip hop, pop, indie rock, indie, guitar]</td>\n",
       "      <td>NaN</td>\n",
       "      <td>55b1f94b29832d7edebc13ee2df081377ec0427a</td>\n",
       "      <td>1</td>\n",
       "    </tr>\n",
       "    <tr>\n",
       "      <th>399999</th>\n",
       "      <td>TRYKPRI128F932481E</td>\n",
       "      <td>Beautiful_ Loved &amp; Blessed</td>\n",
       "      <td>SOUHCMT12A6D4F8E6A</td>\n",
       "      <td>Beautiful_ Loved &amp; Blessed</td>\n",
       "      <td>ARW5ELQ1187FB5A094</td>\n",
       "      <td>eecc97ff-11cb-424e-b37e-b00b17adb86b</td>\n",
       "      <td>Tamar / Prince</td>\n",
       "      <td>318.30159</td>\n",
       "      <td>0.831929</td>\n",
       "      <td>0.288116</td>\n",
       "      <td>NaN</td>\n",
       "      <td>{'pop': 66.0, 'experimental': 16.0, 'female vo...</td>\n",
       "      <td>[pop, pop rock, urban, r&amp;b, female vocalist, s...</td>\n",
       "      <td>NaN</td>\n",
       "      <td>fe1bcd18cf833e29822952d770d70340297bf82a</td>\n",
       "      <td>1</td>\n",
       "    </tr>\n",
       "  </tbody>\n",
       "</table>\n",
       "<p>400000 rows × 16 columns</p>\n",
       "</div>"
      ],
      "text/plain": [
       "                  track_id                                       title  \\\n",
       "0       TRMRSPR128F1486162                        Friends (LP Version)   \n",
       "1       TRWMLGY128F148A1C3              Shooting You Down (LP Version)   \n",
       "2       TRWBHIN128F425A381                         Arizona Indian Doll   \n",
       "3       TRHZAVC128F148A1C4                  House Of Pain (LP Version)   \n",
       "4       TRHZAVC128F148A1C4                  House Of Pain (LP Version)   \n",
       "...                    ...                                         ...   \n",
       "399995  TRYDBBR128F9302860                           Rich In Paradise    \n",
       "399996  TRYXGDO128F932A05C  Save me from my curse (cursed by unterart)   \n",
       "399997  TRYXGDO128F932A05C  Save me from my curse (cursed by unterart)   \n",
       "399998  TRYXGDO128F932A05C  Save me from my curse (cursed by unterart)   \n",
       "399999  TRYKPRI128F932481E                  Beautiful_ Loved & Blessed   \n",
       "\n",
       "                   song_id                                         release  \\\n",
       "0       SOIASSQ12A6D4FA5A4                                         Whipped   \n",
       "1       SOYXZOF12A6D4F96AC                  Rhino Hi-Five: Faster Pussycat   \n",
       "2       SOMLCSC12A8C139300           Between The Valley Of The Ultra Pussy   \n",
       "3       SOSMFOK12A58A7FE92                  Rhino Hi-Five: Faster Pussycat   \n",
       "4       SOSMFOK12A58A7FE92                  Rhino Hi-Five: Faster Pussycat   \n",
       "...                    ...                                             ...   \n",
       "399995  SOUMVOX12AB018298E  The Very Best of Euphoric Dance Breakdown 2009   \n",
       "399996  SOVWYWX12AB0184239                           Save Me From My Curse   \n",
       "399997  SOVWYWX12AB0184239                           Save Me From My Curse   \n",
       "399998  SOVWYWX12AB0184239                           Save Me From My Curse   \n",
       "399999  SOUHCMT12A6D4F8E6A                      Beautiful_ Loved & Blessed   \n",
       "\n",
       "                 artist_id                           artist_mbid  \\\n",
       "0       ARYZTJS1187B98C555  357ff05d-848a-44cf-b608-cb34b5701ae5   \n",
       "1       ARYZTJS1187B98C555  357ff05d-848a-44cf-b608-cb34b5701ae5   \n",
       "2       ARYZTJS1187B98C555  357ff05d-848a-44cf-b608-cb34b5701ae5   \n",
       "3       ARYZTJS1187B98C555  357ff05d-848a-44cf-b608-cb34b5701ae5   \n",
       "4       ARYZTJS1187B98C555  357ff05d-848a-44cf-b608-cb34b5701ae5   \n",
       "...                    ...                                   ...   \n",
       "399995  AR9O38K1187B992141  d78ef6fc-df19-4ba2-8336-cbb1d5aa7777   \n",
       "399996  ARUTHLE11F4C842002  bdf0ea1e-48df-4445-a6c6-8ab5913bd9c3   \n",
       "399997  ARUTHLE11F4C842002  bdf0ea1e-48df-4445-a6c6-8ab5913bd9c3   \n",
       "399998  ARUTHLE11F4C842002  bdf0ea1e-48df-4445-a6c6-8ab5913bd9c3   \n",
       "399999  ARW5ELQ1187FB5A094  eecc97ff-11cb-424e-b37e-b00b17adb86b   \n",
       "\n",
       "            artist_name   duration  artist_familiarity  artist_hotttnesss  \\\n",
       "0       Faster Pussycat  287.81669            0.649822           0.394032   \n",
       "1       Faster Pussycat  227.94404            0.649822           0.394032   \n",
       "2       Faster Pussycat  265.16853            0.649822           0.394032   \n",
       "3       Faster Pussycat  344.65914            0.649822           0.394032   \n",
       "4       Faster Pussycat  344.65914            0.649822           0.394032   \n",
       "...                 ...        ...                 ...                ...   \n",
       "399995      FPI Project  348.10730            0.478736           0.361698   \n",
       "399996      Rabia Sorda  287.58159            0.593110           0.547334   \n",
       "399997      Rabia Sorda  287.58159            0.593110           0.547334   \n",
       "399998      Rabia Sorda  287.58159            0.593110           0.547334   \n",
       "399999   Tamar / Prince  318.30159            0.831929           0.288116   \n",
       "\n",
       "          year                                    track_genre_val  \\\n",
       "0          NaN  {'80s': 25.0, 'rock': 100.0, 'hard rock': 100....   \n",
       "1          NaN  {'rock': 50.0, 'hard rock': 100.0, 'hair metal...   \n",
       "2       1989.0  {'80s': 27.0, 'rock': 63.0, 'rock n roll': 18....   \n",
       "3          NaN  {'70s': 0.0, '80s': 66.0, 'rock': 100.0, 'meta...   \n",
       "4          NaN  {'70s': 0.0, '80s': 66.0, 'rock': 100.0, 'meta...   \n",
       "...        ...                                                ...   \n",
       "399995  1990.0  {'pop': 8.0, 'cool': 0.0, '90s': 41.0, 'female...   \n",
       "399996     NaN  {'industrial': 66.0, 'Gothic': 33.0, 'dark ele...   \n",
       "399997     NaN  {'industrial': 66.0, 'Gothic': 33.0, 'dark ele...   \n",
       "399998     NaN  {'industrial': 66.0, 'Gothic': 33.0, 'dark ele...   \n",
       "399999     NaN  {'pop': 66.0, 'experimental': 16.0, 'female vo...   \n",
       "\n",
       "                                              artist_term artist_mbtag  \\\n",
       "0       [heavy metal, industrial metal, hard rock, gla...          NaN   \n",
       "1       [heavy metal, industrial metal, hard rock, gla...          NaN   \n",
       "2       [heavy metal, industrial metal, hard rock, gla...          NaN   \n",
       "3       [heavy metal, industrial metal, hard rock, gla...          NaN   \n",
       "4       [heavy metal, industrial metal, hard rock, gla...          NaN   \n",
       "...                                                   ...          ...   \n",
       "399995  [italian disco, europop, new beat, disco, deep...          NaN   \n",
       "399996          [hip hop, pop, indie rock, indie, guitar]          NaN   \n",
       "399997          [hip hop, pop, indie rock, indie, guitar]          NaN   \n",
       "399998          [hip hop, pop, indie rock, indie, guitar]          NaN   \n",
       "399999  [pop, pop rock, urban, r&b, female vocalist, s...          NaN   \n",
       "\n",
       "                                         user_id  count  \n",
       "0       f499a469fdf0f01a114eff3ffc45f07eb1038211      1  \n",
       "1       565a013a24c2ec710ff6611187389b6b92251bfb      1  \n",
       "2       5411bf5ca6fa50a504bce1ef7d44c5f2ae4638ca      1  \n",
       "3       8b037ca0e5d30e7ef25b5463b9c82973f5c750ea      1  \n",
       "4       297fe67d7b1d8a8b1cdb78ab5239203a39a2a3a0      2  \n",
       "...                                          ...    ...  \n",
       "399995  ef680f70b767dddfc108654300217e0940e82692     10  \n",
       "399996  34ed37fd8aa3d83a6df5ee8e728922087ac98e45      3  \n",
       "399997  2a28525fe64e492b81184d22877cca8220bb157c      1  \n",
       "399998  55b1f94b29832d7edebc13ee2df081377ec0427a      1  \n",
       "399999  fe1bcd18cf833e29822952d770d70340297bf82a      1  \n",
       "\n",
       "[400000 rows x 16 columns]"
      ]
     },
     "execution_count": 25,
     "metadata": {},
     "output_type": "execute_result"
    }
   ],
   "source": [
    "# drop unnecessary column\n",
    "df_plot = df_plot.drop('__index_level_0__', axis = 1)\n",
    "# replace 0 release year with nan\n",
    "df_plot['year'] = df_plot['year'].replace(['0', 0], np.nan)\n",
    "df_plot"
   ]
  },
  {
   "cell_type": "markdown",
   "metadata": {},
   "source": [
    "### Simple EDA: matplotlib + seaborn pairplot"
   ]
  },
  {
   "cell_type": "markdown",
   "metadata": {},
   "source": [
    "In this section, we will analyze the data and decide which genre/ tag to be assigned to an artist/ track. One artist will be resulted in one tag and one track will be associated with one genre. We do this single assignment for the ease of UMAP learning."
   ]
  },
  {
   "cell_type": "code",
   "execution_count": 26,
   "metadata": {
    "scrolled": true
   },
   "outputs": [
    {
     "data": {
      "text/html": [
       "<div>\n",
       "<style scoped>\n",
       "    .dataframe tbody tr th:only-of-type {\n",
       "        vertical-align: middle;\n",
       "    }\n",
       "\n",
       "    .dataframe tbody tr th {\n",
       "        vertical-align: top;\n",
       "    }\n",
       "\n",
       "    .dataframe thead th {\n",
       "        text-align: right;\n",
       "    }\n",
       "</style>\n",
       "<table border=\"1\" class=\"dataframe\">\n",
       "  <thead>\n",
       "    <tr style=\"text-align: right;\">\n",
       "      <th></th>\n",
       "      <th>duration</th>\n",
       "      <th>artist_familiarity</th>\n",
       "      <th>artist_hotttnesss</th>\n",
       "      <th>year</th>\n",
       "      <th>count</th>\n",
       "    </tr>\n",
       "  </thead>\n",
       "  <tbody>\n",
       "    <tr>\n",
       "      <th>count</th>\n",
       "      <td>400000.000000</td>\n",
       "      <td>400000.000000</td>\n",
       "      <td>400000.000000</td>\n",
       "      <td>318970.000000</td>\n",
       "      <td>400000.000000</td>\n",
       "    </tr>\n",
       "    <tr>\n",
       "      <th>mean</th>\n",
       "      <td>248.983683</td>\n",
       "      <td>0.726252</td>\n",
       "      <td>0.543675</td>\n",
       "      <td>2000.429175</td>\n",
       "      <td>2.990050</td>\n",
       "    </tr>\n",
       "    <tr>\n",
       "      <th>std</th>\n",
       "      <td>98.048313</td>\n",
       "      <td>0.133847</td>\n",
       "      <td>0.146341</td>\n",
       "      <td>9.887722</td>\n",
       "      <td>6.329269</td>\n",
       "    </tr>\n",
       "    <tr>\n",
       "      <th>min</th>\n",
       "      <td>0.678730</td>\n",
       "      <td>-1.000000</td>\n",
       "      <td>0.000000</td>\n",
       "      <td>1927.000000</td>\n",
       "      <td>1.000000</td>\n",
       "    </tr>\n",
       "    <tr>\n",
       "      <th>25%</th>\n",
       "      <td>198.974240</td>\n",
       "      <td>0.642352</td>\n",
       "      <td>0.451360</td>\n",
       "      <td>1997.000000</td>\n",
       "      <td>1.000000</td>\n",
       "    </tr>\n",
       "    <tr>\n",
       "      <th>50%</th>\n",
       "      <td>234.004440</td>\n",
       "      <td>0.749180</td>\n",
       "      <td>0.530413</td>\n",
       "      <td>2004.000000</td>\n",
       "      <td>1.000000</td>\n",
       "    </tr>\n",
       "    <tr>\n",
       "      <th>75%</th>\n",
       "      <td>277.864040</td>\n",
       "      <td>0.830885</td>\n",
       "      <td>0.601436</td>\n",
       "      <td>2007.000000</td>\n",
       "      <td>3.000000</td>\n",
       "    </tr>\n",
       "    <tr>\n",
       "      <th>max</th>\n",
       "      <td>3024.665670</td>\n",
       "      <td>1.000000</td>\n",
       "      <td>1.082503</td>\n",
       "      <td>2011.000000</td>\n",
       "      <td>451.000000</td>\n",
       "    </tr>\n",
       "  </tbody>\n",
       "</table>\n",
       "</div>"
      ],
      "text/plain": [
       "            duration  artist_familiarity  artist_hotttnesss           year  \\\n",
       "count  400000.000000       400000.000000      400000.000000  318970.000000   \n",
       "mean      248.983683            0.726252           0.543675    2000.429175   \n",
       "std        98.048313            0.133847           0.146341       9.887722   \n",
       "min         0.678730           -1.000000           0.000000    1927.000000   \n",
       "25%       198.974240            0.642352           0.451360    1997.000000   \n",
       "50%       234.004440            0.749180           0.530413    2004.000000   \n",
       "75%       277.864040            0.830885           0.601436    2007.000000   \n",
       "max      3024.665670            1.000000           1.082503    2011.000000   \n",
       "\n",
       "               count  \n",
       "count  400000.000000  \n",
       "mean        2.990050  \n",
       "std         6.329269  \n",
       "min         1.000000  \n",
       "25%         1.000000  \n",
       "50%         1.000000  \n",
       "75%         3.000000  \n",
       "max       451.000000  "
      ]
     },
     "execution_count": 26,
     "metadata": {},
     "output_type": "execute_result"
    }
   ],
   "source": [
    "df_plot.describe()"
   ]
  },
  {
   "cell_type": "code",
   "execution_count": 27,
   "metadata": {},
   "outputs": [
    {
     "data": {
      "text/plain": [
       "<seaborn.axisgrid.PairGrid at 0x14cb015b5eb0>"
      ]
     },
     "execution_count": 27,
     "metadata": {},
     "output_type": "execute_result"
    },
    {
     "data": {
      "image/png": "[encoded data removed]",
      "text/plain": [
       "<Figure size 900x900 with 30 Axes>"
      ]
     },
     "metadata": {
      "needs_background": "light"
     },
     "output_type": "display_data"
    }
   ],
   "source": [
    "import seaborn as sns\n",
    "sns.pairplot(df_plot, kind = 'hist') #hue?"
   ]
  },
  {
   "cell_type": "markdown",
   "metadata": {},
   "source": [
    "#### Artist vs genre tags eda\n",
    "\n",
    "This is useful for selecting the most descriptive artist genre tag.\n",
    "\n",
    "Each artist will be assigned with a genre tag that has the highest appearance rank among all artists. The rank of a genre is calculated from the total number of times it appears in the entire MSD dataset. (Assumption made: the more times an artist genre appears the hotter/ more popular this genre is)\n",
    "\n",
    "This would introduce a somewhat popularity bias but still would be descriptive for a specific artist"
   ]
  },
  {
   "cell_type": "code",
   "execution_count": 28,
   "metadata": {
    "scrolled": true
   },
   "outputs": [],
   "source": [
    "# most listened to by different users (1 user = 1 count; any more counts by the same user are not calculated)\n",
    "most_artist = pd.DataFrame(df_plot[[\"artist_name\", \"artist_id\"]].value_counts(ascending = True))\n",
    "most_artist.columns = ['count']\n",
    "most_artist['rank'] = most_artist['count'].rank()"
   ]
  },
  {
   "cell_type": "code",
   "execution_count": 29,
   "metadata": {
    "scrolled": true
   },
   "outputs": [],
   "source": [
    "mostlistened_artist = pd.DataFrame(df_plot.groupby(['artist_name','artist_id'])['count'].apply(sum))\\\n",
    "                                    .sort_values('count', ascending = True)\n",
    "mostlistened_artist['rank'] = mostlistened_artist['count'].rank()"
   ]
  },
  {
   "cell_type": "code",
   "execution_count": 30,
   "metadata": {},
   "outputs": [],
   "source": [
    "most_artist_20 = most_artist.tail(20)\n",
    "mostlistened_artist_20 = mostlistened_artist.tail(20)"
   ]
  },
  {
   "cell_type": "code",
   "execution_count": 31,
   "metadata": {
    "scrolled": true
   },
   "outputs": [
    {
     "data": {
      "text/plain": [
       "Text(0.5, 1.0, 'top 20 artists listened the most times')"
      ]
     },
     "execution_count": 31,
     "metadata": {},
     "output_type": "execute_result"
    },
    {
     "data": {
      "image/png": "[encoded data removed]",
      "text/plain": [
       "<Figure size 1080x720 with 2 Axes>"
      ]
     },
     "metadata": {
      "needs_background": "light"
     },
     "output_type": "display_data"
    }
   ],
   "source": [
    "# side by side bar chart: most listened artists (by most users versus by most times)\n",
    "x1, y1, x2, y2 = most_artist_20.index.get_level_values(0), most_artist_20['count'],\\\n",
    "                mostlistened_artist_20.index.get_level_values(0), mostlistened_artist_20['count']\n",
    "fig = plt.figure(figsize = (15,10))\n",
    "ax = fig.add_subplot(121)\n",
    "plt.barh(x1,y1)\n",
    "plt.title('top 20 artists listened by most users')\n",
    "ax = fig.add_subplot(122)\n",
    "plt.barh(x2,y2)\n",
    "plt.title('top 20 artists listened the most times')"
   ]
  },
  {
   "cell_type": "markdown",
   "metadata": {},
   "source": [
    "##### Selecting artist tags (for artists with multiple tags)"
   ]
  },
  {
   "cell_type": "code",
   "execution_count": 32,
   "metadata": {},
   "outputs": [
    {
     "data": {
      "text/plain": [
       "0         [heavy metal, industrial metal, hard rock, gla...\n",
       "1         [heavy metal, industrial metal, hard rock, gla...\n",
       "2         [heavy metal, industrial metal, hard rock, gla...\n",
       "3         [heavy metal, industrial metal, hard rock, gla...\n",
       "4         [heavy metal, industrial metal, hard rock, gla...\n",
       "                                ...                        \n",
       "399995    [italian disco, europop, new beat, disco, deep...\n",
       "399996            [hip hop, pop, indie rock, indie, guitar]\n",
       "399997            [hip hop, pop, indie rock, indie, guitar]\n",
       "399998            [hip hop, pop, indie rock, indie, guitar]\n",
       "399999    [pop, pop rock, urban, r&b, female vocalist, s...\n",
       "Name: artist_term, Length: 400000, dtype: object"
      ]
     },
     "execution_count": 32,
     "metadata": {},
     "output_type": "execute_result"
    }
   ],
   "source": [
    "df_plot['artist_term']"
   ]
  },
  {
   "cell_type": "code",
   "execution_count": 33,
   "metadata": {
    "scrolled": true
   },
   "outputs": [],
   "source": [
    "artist_term = list(df_plot['artist_term'].dropna())\n",
    "artist_term = pd.DataFrame(list(itertools.chain(*artist_term)))\n",
    "artist_term = pd.DataFrame(artist_term.value_counts().sort_values(ascending = True))\n",
    "artist_term.columns = ['count']\n",
    "artist_term['rank'] = artist_term.rank()"
   ]
  },
  {
   "cell_type": "code",
   "execution_count": 34,
   "metadata": {
    "scrolled": true
   },
   "outputs": [],
   "source": [
    "artist_mbtag = list(df_plot['artist_mbtag'].dropna())\n",
    "artist_mbtag = pd.DataFrame(list(itertools.chain(*artist_mbtag)))\n",
    "artist_mbtag = pd.DataFrame(artist_mbtag.value_counts().sort_values(ascending = True))\n",
    "artist_mbtag.columns = ['count']\n",
    "artist_mbtag['rank'] = artist_mbtag.rank()"
   ]
  },
  {
   "cell_type": "code",
   "execution_count": 35,
   "metadata": {},
   "outputs": [],
   "source": [
    "artist_term_20 = artist_term.tail(20)\n",
    "artist_mbtag_20 = artist_mbtag.tail(20)"
   ]
  },
  {
   "cell_type": "code",
   "execution_count": 36,
   "metadata": {
    "scrolled": true
   },
   "outputs": [
    {
     "data": {
      "text/plain": [
       "Text(0.5, 1.0, 'top 20 mbtags of the most listened artists')"
      ]
     },
     "execution_count": 36,
     "metadata": {},
     "output_type": "execute_result"
    },
    {
     "data": {
      "image/png": "[encoded data removed]",
      "text/plain": [
       "<Figure size 1080x720 with 2 Axes>"
      ]
     },
     "metadata": {
      "needs_background": "light"
     },
     "output_type": "display_data"
    }
   ],
   "source": [
    "# side by side bar chart: top 20 artist term vs mbtags of most listened artists\n",
    "x1, y1, x2, y2 = artist_term_20.index.get_level_values(0), artist_term_20['count'],\\\n",
    "                artist_mbtag_20.index.get_level_values(0), artist_mbtag_20['count']\n",
    "fig = plt.figure(figsize = (15,10))\n",
    "ax = fig.add_subplot(121)\n",
    "plt.barh(x1,y1)\n",
    "plt.title('top 20 genre terms of the most listened artists')\n",
    "ax = fig.add_subplot(122)\n",
    "plt.barh(x2,y2)\n",
    "plt.title('top 20 mbtags of the most listened artists')"
   ]
  },
  {
   "cell_type": "markdown",
   "metadata": {},
   "source": [
    "#### Track analysis\n",
    "\n",
    "This could also be used for selecting the most descriptive genre tag for a track"
   ]
  },
  {
   "cell_type": "code",
   "execution_count": 37,
   "metadata": {
    "scrolled": true
   },
   "outputs": [],
   "source": [
    "# most listened to by different users (1 user = 1 count; any more counts by the same user are not calculated)\n",
    "most_track = pd.DataFrame(df_plot[[\"track_id\", \"title\"]].value_counts(ascending = True))\n",
    "most_track.columns = ['count']"
   ]
  },
  {
   "cell_type": "code",
   "execution_count": 38,
   "metadata": {
    "scrolled": true
   },
   "outputs": [],
   "source": [
    "mostlistened_track = pd.DataFrame(df_plot.groupby([\"track_id\", \"title\"])['count'].apply(sum))\\\n",
    "                                    .sort_values('count', ascending = True)"
   ]
  },
  {
   "cell_type": "code",
   "execution_count": 39,
   "metadata": {},
   "outputs": [],
   "source": [
    "most_track_20 = most_track.tail(20)\n",
    "mostlistened_track_20 = mostlistened_track.tail(20)"
   ]
  },
  {
   "cell_type": "code",
   "execution_count": 40,
   "metadata": {
    "scrolled": true
   },
   "outputs": [
    {
     "data": {
      "text/plain": [
       "Text(0.5, 1.0, 'top 20 tracks listened the most times')"
      ]
     },
     "execution_count": 40,
     "metadata": {},
     "output_type": "execute_result"
    },
    {
     "data": {
      "image/png": "[encoded data removed]",
      "text/plain": [
       "<Figure size 1080x720 with 2 Axes>"
      ]
     },
     "metadata": {
      "needs_background": "light"
     },
     "output_type": "display_data"
    }
   ],
   "source": [
    "# side by side bar chart: most listened artists (by most users versus by most times)\n",
    "x1, y1, x2, y2 = most_track_20.index.get_level_values(1), most_track_20['count'],\\\n",
    "                mostlistened_track_20.index.get_level_values(1), mostlistened_track_20['count']\n",
    "fig = plt.figure(figsize = (15,10))\n",
    "ax = fig.add_subplot(121)\n",
    "plt.barh(x1,y1)\n",
    "plt.title('top 20 tracks listened by most users')\n",
    "ax = fig.add_subplot(122)\n",
    "plt.barh(x2,y2)\n",
    "plt.title('top 20 tracks listened the most times')"
   ]
  },
  {
   "cell_type": "markdown",
   "metadata": {},
   "source": [
    "##### A demograph of the number of times track being listend to\n",
    "\n",
    "Most tracks are only listened to once or twice. "
   ]
  },
  {
   "cell_type": "code",
   "execution_count": 41,
   "metadata": {},
   "outputs": [],
   "source": [
    "# track versus count pie chart\n",
    "# most track are only listend to by once or twice\n",
    "times = [*range(1,20,1)]\n",
    "times_full = [*range(1, max(mostlistened_track['count']), 1)]\n",
    "times_listened_to_1, times_listened_to_2 = {}, {}\n",
    "for time in times:\n",
    "    times_listened_to_1[str(time)] = len(mostlistened_track[mostlistened_track['count'] == time])/ len(mostlistened_track)\n",
    "for time in times_full:\n",
    "    times_listened_to_2[str(time)] = len(mostlistened_track[mostlistened_track['count'] == time])/ len(mostlistened_track)"
   ]
  },
  {
   "cell_type": "code",
   "execution_count": 42,
   "metadata": {},
   "outputs": [],
   "source": [
    "times_df_1 = pd.DataFrame(list(times_listened_to_1.items()),columns = ['times listened to','%'])\n",
    "times_df_2 = pd.DataFrame(list(times_listened_to_2.items()),columns = ['times listened to','%'])"
   ]
  },
  {
   "cell_type": "code",
   "execution_count": 43,
   "metadata": {
    "scrolled": true
   },
   "outputs": [
    {
     "data": {
      "text/plain": [
       "<AxesSubplot:>"
      ]
     },
     "execution_count": 43,
     "metadata": {},
     "output_type": "execute_result"
    },
    {
     "data": {
      "image/png": "[encoded data removed]",
      "text/plain": [
       "<Figure size 432x288 with 1 Axes>"
      ]
     },
     "metadata": {
      "needs_background": "light"
     },
     "output_type": "display_data"
    },
    {
     "data": {
      "image/png": "[encoded data removed]",
      "text/plain": [
       "<Figure size 432x288 with 1 Axes>"
      ]
     },
     "metadata": {
      "needs_background": "light"
     },
     "output_type": "display_data"
    }
   ],
   "source": [
    "times_df_1.plot()\n",
    "times_df_2.plot()"
   ]
  },
  {
   "cell_type": "markdown",
   "metadata": {},
   "source": [
    "There is a clear decrease at range (1, 5) and there is almost no change in the range (1000, 8000) so we will binning the \"number of times a track is listened to\" by [1, 2, 3 - 5, 6-10, 11 - 49, 50 - 99, 101 - 1000, >1000]"
   ]
  },
  {
   "cell_type": "code",
   "execution_count": 44,
   "metadata": {},
   "outputs": [],
   "source": [
    "df_times = {'Once': len(mostlistened_track[mostlistened_track['count'] == 1])/ len(mostlistened_track),\n",
    "            'Twice': len(mostlistened_track[mostlistened_track['count'] == 2])/ len(mostlistened_track),\n",
    "            '3 - 5': len(mostlistened_track[mostlistened_track['count'].between(3,5)])/ len(mostlistened_track),\n",
    "            '6-10': len(mostlistened_track[mostlistened_track['count'].between(6,10)])/ len(mostlistened_track),\n",
    "            '11-49': len(mostlistened_track[mostlistened_track['count'].between(11,49)])/ len(mostlistened_track),\n",
    "            '50-99': len(mostlistened_track[mostlistened_track['count'].between(50,99)])/ len(mostlistened_track),\n",
    "            '100-999': len(mostlistened_track[mostlistened_track['count'].between(100,999)])/ len(mostlistened_track),\n",
    "            '>999': len(mostlistened_track[mostlistened_track['count'] >= 1000])/ len(mostlistened_track)\n",
    "           }\n",
    "df_times = pd.DataFrame(list(df_times.items()),columns = ['times listened to','%'])"
   ]
  },
  {
   "cell_type": "code",
   "execution_count": 45,
   "metadata": {},
   "outputs": [],
   "source": [
    "df_times = df_times.set_index('times listened to')"
   ]
  },
  {
   "cell_type": "code",
   "execution_count": 46,
   "metadata": {},
   "outputs": [
    {
     "data": {
      "text/plain": [
       "<AxesSubplot:ylabel='%'>"
      ]
     },
     "execution_count": 46,
     "metadata": {},
     "output_type": "execute_result"
    },
    {
     "data": {
      "image/png": "[encoded data removed]",
      "text/plain": [
       "<Figure size 720x720 with 1 Axes>"
      ]
     },
     "metadata": {},
     "output_type": "display_data"
    }
   ],
   "source": [
    "df_times.plot.pie(y = '%', figsize=(10, 10))\n",
    "# label it!!"
   ]
  },
  {
   "cell_type": "markdown",
   "metadata": {},
   "source": [
    "##### Selecting tags for tracks with multiple dominant genres\n",
    "\n",
    "For tracks with multiple dominant genres, the most popular genre dominate the track genre and the popularity of a track genre is calculated from the total number of times this genre appears in the MSD. (Assumption made similar to the one in deciding artist genre/ tag popularity)\n",
    "\n",
    "This could introduce a popularity bias but should be somewhat less biased than artist genre assignment (an artist's genre could be far more diverse than a track's genre and it could be trickier for us to assign a single genre to an artist. On the contrary, assigning one genre to a track sounds a little better)"
   ]
  },
  {
   "cell_type": "code",
   "execution_count": 47,
   "metadata": {},
   "outputs": [],
   "source": [
    "track_genre_full = df_plot['track_genre_val'].dropna()\n",
    "track_genre_full = list(track_genre_full.apply(lambda x: list(x.keys())))\n",
    "track_genre_full = list(itertools.chain(*track_genre_full))\n",
    "track_genre_dict = Counter((genre for genre in track_genre_full))\n",
    "genre = pd.DataFrame(list(track_genre_dict.items()),columns = ['genre','count']).sort_values('count', ascending = True)"
   ]
  },
  {
   "cell_type": "code",
   "execution_count": 48,
   "metadata": {},
   "outputs": [],
   "source": [
    "# rank the genres by the number of times they appear in the MSD track_genre\n",
    "# For tracks with multiple dominant genres, the most popular genre dominate the track genre\n",
    "genre['rank'] = genre['count'].rank()"
   ]
  },
  {
   "cell_type": "code",
   "execution_count": 49,
   "metadata": {},
   "outputs": [],
   "source": [
    "genre_20 = genre.tail(20)"
   ]
  },
  {
   "cell_type": "code",
   "execution_count": 50,
   "metadata": {
    "scrolled": true
   },
   "outputs": [
    {
     "data": {
      "text/plain": [
       "<BarContainer object of 20 artists>"
      ]
     },
     "execution_count": 50,
     "metadata": {},
     "output_type": "execute_result"
    },
    {
     "data": {
      "image/png": "[encoded data removed]",
      "text/plain": [
       "<Figure size 504x720 with 1 Axes>"
      ]
     },
     "metadata": {
      "needs_background": "light"
     },
     "output_type": "display_data"
    }
   ],
   "source": [
    "# top 20 most popular genres (by number of times they appear)\n",
    "x1, y1 = genre_20['genre'], genre_20['count']\n",
    "fig = plt.figure(figsize = (7,10))\n",
    "plt.barh(x1,y1)"
   ]
  },
  {
   "cell_type": "markdown",
   "metadata": {},
   "source": [
    "### Data Cleaning continued (after EDA) for track&artist genres\n",
    "\n",
    "In this section, we will assign one genre/ tag to each of an artist/ track based on the popularity rankings of the tags made in EDA. The larger the rank, the more popular the tag.\n",
    "\n",
    "Let's use spark df instead of pd df for the ease of data cleaning.\n",
    "\n",
    "If there is a tie in the tag rank, ?"
   ]
  },
  {
   "cell_type": "code",
   "execution_count": 55,
   "metadata": {},
   "outputs": [],
   "source": [
    "import math\n",
    "#optimizable\n",
    "\n",
    "def select_tag(track, row):\n",
    "    \"\"\"\n",
    "    inputs: \n",
    "        track(boolean):\n",
    "            True means it is from the track_genre_val column, \n",
    "            otherwise artist_mbtag/ artist_term\n",
    "        row: input row to be cleaned\n",
    "    return: a dominant genre/ tag for a track/ artist\n",
    "    \"\"\"\n",
    "    if row != row: return row # check for nan rows\n",
    "    if track:\n",
    "        genre_lst = find_max_genre(row)\n",
    "        rank = [int(genre[genre['genre'] == tag]['rank']) for tag in genre_lst]\n",
    "    else:\n",
    "        genre_lst = row\n",
    "        rank = [int(artist_term['rank'][tag]) for tag in row]\n",
    "    max_index = [idx for idx, val in enumerate(rank) if val == max(rank)]\n",
    "    dominant_genre = [genre_lst[idx] for idx in max_index]\n",
    "    return dominant_genre"
   ]
  },
  {
   "cell_type": "code",
   "execution_count": 56,
   "metadata": {},
   "outputs": [],
   "source": [
    "def find_max_genre(row):\n",
    "    \"\"\"\n",
    "    inputs: \n",
    "        row: input row to be cleaned\n",
    "    return: a list of dominant genre/ tag for a track/ artist\n",
    "    \"\"\"\n",
    "    listOfKeys = list()\n",
    "    itemMaxValue = max(row.values())\n",
    "    # Iterate over all the items in dictionary to find keys with max value\n",
    "    for key, value in row.items():\n",
    "        if value == itemMaxValue:\n",
    "            listOfKeys.append(key)\n",
    "    return listOfKeys"
   ]
  },
  {
   "cell_type": "code",
   "execution_count": null,
   "metadata": {
    "scrolled": false
   },
   "outputs": [],
   "source": [
    "df_plot['track_genre'] = df_plot['track_genre_val'].apply(lambda x: select_tag(True, x))"
   ]
  },
  {
   "cell_type": "code",
   "execution_count": null,
   "metadata": {},
   "outputs": [],
   "source": [
    "df_plot"
   ]
  },
  {
   "cell_type": "code",
   "execution_count": 68,
   "metadata": {},
   "outputs": [],
   "source": [
    "df_plot['artist_genre'] = df_plot['artist_term'].apply(lambda x: select_tag(False, x))"
   ]
  },
  {
   "cell_type": "code",
   "execution_count": null,
   "metadata": {},
   "outputs": [],
   "source": [
    "# if tie?"
   ]
  },
  {
   "cell_type": "code",
   "execution_count": null,
   "metadata": {
    "scrolled": true
   },
   "outputs": [],
   "source": [
    "df_plot"
   ]
  },
  {
   "cell_type": "code",
   "execution_count": 55,
   "metadata": {
    "scrolled": true
   },
   "outputs": [
    {
     "data": {
      "text/html": [
       "<div>\n",
       "<style scoped>\n",
       "    .dataframe tbody tr th:only-of-type {\n",
       "        vertical-align: middle;\n",
       "    }\n",
       "\n",
       "    .dataframe tbody tr th {\n",
       "        vertical-align: top;\n",
       "    }\n",
       "\n",
       "    .dataframe thead th {\n",
       "        text-align: right;\n",
       "    }\n",
       "</style>\n",
       "<table border=\"1\" class=\"dataframe\">\n",
       "  <thead>\n",
       "    <tr style=\"text-align: right;\">\n",
       "      <th></th>\n",
       "      <th>genre</th>\n",
       "      <th>count</th>\n",
       "      <th>rank</th>\n",
       "    </tr>\n",
       "  </thead>\n",
       "  <tbody>\n",
       "    <tr>\n",
       "      <th>145172</th>\n",
       "      <td>roadtr</td>\n",
       "      <td>1</td>\n",
       "      <td>27017.5</td>\n",
       "    </tr>\n",
       "    <tr>\n",
       "      <th>85271</th>\n",
       "      <td>rumpelt</td>\n",
       "      <td>1</td>\n",
       "      <td>27017.5</td>\n",
       "    </tr>\n",
       "    <tr>\n",
       "      <th>85270</th>\n",
       "      <td>silent electronica</td>\n",
       "      <td>1</td>\n",
       "      <td>27017.5</td>\n",
       "    </tr>\n",
       "    <tr>\n",
       "      <th>85269</th>\n",
       "      <td>chamber electronics</td>\n",
       "      <td>1</td>\n",
       "      <td>27017.5</td>\n",
       "    </tr>\n",
       "    <tr>\n",
       "      <th>85268</th>\n",
       "      <td>silent noise</td>\n",
       "      <td>1</td>\n",
       "      <td>27017.5</td>\n",
       "    </tr>\n",
       "    <tr>\n",
       "      <th>...</th>\n",
       "      <td>...</td>\n",
       "      <td>...</td>\n",
       "      <td>...</td>\n",
       "    </tr>\n",
       "    <tr>\n",
       "      <th>203</th>\n",
       "      <td>Love</td>\n",
       "      <td>110066</td>\n",
       "      <td>290341.0</td>\n",
       "    </tr>\n",
       "    <tr>\n",
       "      <th>88</th>\n",
       "      <td>favorites</td>\n",
       "      <td>124823</td>\n",
       "      <td>290342.0</td>\n",
       "    </tr>\n",
       "    <tr>\n",
       "      <th>6</th>\n",
       "      <td>alternative</td>\n",
       "      <td>136010</td>\n",
       "      <td>290343.0</td>\n",
       "    </tr>\n",
       "    <tr>\n",
       "      <th>4</th>\n",
       "      <td>pop</td>\n",
       "      <td>138087</td>\n",
       "      <td>290344.0</td>\n",
       "    </tr>\n",
       "    <tr>\n",
       "      <th>1</th>\n",
       "      <td>rock</td>\n",
       "      <td>169221</td>\n",
       "      <td>290345.0</td>\n",
       "    </tr>\n",
       "  </tbody>\n",
       "</table>\n",
       "<p>290345 rows × 3 columns</p>\n",
       "</div>"
      ],
      "text/plain": [
       "                      genre   count      rank\n",
       "145172               roadtr       1   27017.5\n",
       "85271               rumpelt       1   27017.5\n",
       "85270    silent electronica       1   27017.5\n",
       "85269   chamber electronics       1   27017.5\n",
       "85268          silent noise       1   27017.5\n",
       "...                     ...     ...       ...\n",
       "203                    Love  110066  290341.0\n",
       "88                favorites  124823  290342.0\n",
       "6               alternative  136010  290343.0\n",
       "4                       pop  138087  290344.0\n",
       "1                      rock  169221  290345.0\n",
       "\n",
       "[290345 rows x 3 columns]"
      ]
     },
     "execution_count": 55,
     "metadata": {},
     "output_type": "execute_result"
    }
   ],
   "source": [
    "genre"
   ]
  },
  {
   "cell_type": "code",
   "execution_count": 70,
   "metadata": {},
   "outputs": [
    {
     "data": {
      "text/html": [
       "<div>\n",
       "<style scoped>\n",
       "    .dataframe tbody tr th:only-of-type {\n",
       "        vertical-align: middle;\n",
       "    }\n",
       "\n",
       "    .dataframe tbody tr th {\n",
       "        vertical-align: top;\n",
       "    }\n",
       "\n",
       "    .dataframe thead th {\n",
       "        text-align: right;\n",
       "    }\n",
       "</style>\n",
       "<table border=\"1\" class=\"dataframe\">\n",
       "  <thead>\n",
       "    <tr style=\"text-align: right;\">\n",
       "      <th></th>\n",
       "      <th>count</th>\n",
       "      <th>rank</th>\n",
       "    </tr>\n",
       "    <tr>\n",
       "      <th>0</th>\n",
       "      <th></th>\n",
       "      <th></th>\n",
       "    </tr>\n",
       "  </thead>\n",
       "  <tbody>\n",
       "    <tr>\n",
       "      <th>cyprus</th>\n",
       "      <td>1</td>\n",
       "      <td>535.0</td>\n",
       "    </tr>\n",
       "    <tr>\n",
       "      <th>bonnaroo 2007</th>\n",
       "      <td>1</td>\n",
       "      <td>535.0</td>\n",
       "    </tr>\n",
       "    <tr>\n",
       "      <th>outsider</th>\n",
       "      <td>1</td>\n",
       "      <td>535.0</td>\n",
       "    </tr>\n",
       "    <tr>\n",
       "      <th>newcastle</th>\n",
       "      <td>1</td>\n",
       "      <td>535.0</td>\n",
       "    </tr>\n",
       "    <tr>\n",
       "      <th>newark</th>\n",
       "      <td>1</td>\n",
       "      <td>535.0</td>\n",
       "    </tr>\n",
       "    <tr>\n",
       "      <th>...</th>\n",
       "      <td>...</td>\n",
       "      <td>...</td>\n",
       "    </tr>\n",
       "    <tr>\n",
       "      <th>alternative</th>\n",
       "      <td>3650</td>\n",
       "      <td>3627.0</td>\n",
       "    </tr>\n",
       "    <tr>\n",
       "      <th>hip hop</th>\n",
       "      <td>3980</td>\n",
       "      <td>3628.0</td>\n",
       "    </tr>\n",
       "    <tr>\n",
       "      <th>electronic</th>\n",
       "      <td>5085</td>\n",
       "      <td>3629.0</td>\n",
       "    </tr>\n",
       "    <tr>\n",
       "      <th>pop</th>\n",
       "      <td>5939</td>\n",
       "      <td>3630.0</td>\n",
       "    </tr>\n",
       "    <tr>\n",
       "      <th>rock</th>\n",
       "      <td>6646</td>\n",
       "      <td>3631.0</td>\n",
       "    </tr>\n",
       "  </tbody>\n",
       "</table>\n",
       "<p>3631 rows × 2 columns</p>\n",
       "</div>"
      ],
      "text/plain": [
       "               count    rank\n",
       "0                           \n",
       "cyprus             1   535.0\n",
       "bonnaroo 2007      1   535.0\n",
       "outsider           1   535.0\n",
       "newcastle          1   535.0\n",
       "newark             1   535.0\n",
       "...              ...     ...\n",
       "alternative     3650  3627.0\n",
       "hip hop         3980  3628.0\n",
       "electronic      5085  3629.0\n",
       "pop             5939  3630.0\n",
       "rock            6646  3631.0\n",
       "\n",
       "[3631 rows x 2 columns]"
      ]
     },
     "execution_count": 70,
     "metadata": {},
     "output_type": "execute_result"
    }
   ],
   "source": [
    "artist_term"
   ]
  },
  {
   "cell_type": "markdown",
   "metadata": {},
   "source": [
    "### UMAP visualization"
   ]
  },
  {
   "cell_type": "code",
   "execution_count": 34,
   "metadata": {
    "scrolled": true
   },
   "outputs": [
    {
     "data": {
      "text/html": [
       "<div>\n",
       "<style scoped>\n",
       "    .dataframe tbody tr th:only-of-type {\n",
       "        vertical-align: middle;\n",
       "    }\n",
       "\n",
       "    .dataframe tbody tr th {\n",
       "        vertical-align: top;\n",
       "    }\n",
       "\n",
       "    .dataframe thead th {\n",
       "        text-align: right;\n",
       "    }\n",
       "</style>\n",
       "<table border=\"1\" class=\"dataframe\">\n",
       "  <thead>\n",
       "    <tr style=\"text-align: right;\">\n",
       "      <th></th>\n",
       "      <th>track_id</th>\n",
       "      <th>title</th>\n",
       "      <th>song_id</th>\n",
       "      <th>release</th>\n",
       "      <th>artist_id</th>\n",
       "      <th>artist_mbid</th>\n",
       "      <th>artist_name</th>\n",
       "      <th>duration</th>\n",
       "      <th>artist_familiarity</th>\n",
       "      <th>artist_hotttnesss</th>\n",
       "      <th>year</th>\n",
       "      <th>track_genre_val</th>\n",
       "      <th>artist_term</th>\n",
       "      <th>artist_mbtag</th>\n",
       "      <th>user_id</th>\n",
       "      <th>count</th>\n",
       "    </tr>\n",
       "  </thead>\n",
       "  <tbody>\n",
       "    <tr>\n",
       "      <th>0</th>\n",
       "      <td>TRMRSPR128F1486162</td>\n",
       "      <td>Friends (LP Version)</td>\n",
       "      <td>SOIASSQ12A6D4FA5A4</td>\n",
       "      <td>Whipped</td>\n",
       "      <td>ARYZTJS1187B98C555</td>\n",
       "      <td>357ff05d-848a-44cf-b608-cb34b5701ae5</td>\n",
       "      <td>Faster Pussycat</td>\n",
       "      <td>287.81669</td>\n",
       "      <td>0.649822</td>\n",
       "      <td>0.394032</td>\n",
       "      <td>NaN</td>\n",
       "      <td>{'80s': 25.0, 'rock': 100.0, 'hard rock': 100....</td>\n",
       "      <td>[heavy metal, industrial metal, hard rock, gla...</td>\n",
       "      <td>NaN</td>\n",
       "      <td>f499a469fdf0f01a114eff3ffc45f07eb1038211</td>\n",
       "      <td>1</td>\n",
       "    </tr>\n",
       "    <tr>\n",
       "      <th>1</th>\n",
       "      <td>TRWMLGY128F148A1C3</td>\n",
       "      <td>Shooting You Down (LP Version)</td>\n",
       "      <td>SOYXZOF12A6D4F96AC</td>\n",
       "      <td>Rhino Hi-Five: Faster Pussycat</td>\n",
       "      <td>ARYZTJS1187B98C555</td>\n",
       "      <td>357ff05d-848a-44cf-b608-cb34b5701ae5</td>\n",
       "      <td>Faster Pussycat</td>\n",
       "      <td>227.94404</td>\n",
       "      <td>0.649822</td>\n",
       "      <td>0.394032</td>\n",
       "      <td>NaN</td>\n",
       "      <td>{'rock': 50.0, 'hard rock': 100.0, 'hair metal...</td>\n",
       "      <td>[heavy metal, industrial metal, hard rock, gla...</td>\n",
       "      <td>NaN</td>\n",
       "      <td>565a013a24c2ec710ff6611187389b6b92251bfb</td>\n",
       "      <td>1</td>\n",
       "    </tr>\n",
       "    <tr>\n",
       "      <th>2</th>\n",
       "      <td>TRWBHIN128F425A381</td>\n",
       "      <td>Arizona Indian Doll</td>\n",
       "      <td>SOMLCSC12A8C139300</td>\n",
       "      <td>Between The Valley Of The Ultra Pussy</td>\n",
       "      <td>ARYZTJS1187B98C555</td>\n",
       "      <td>357ff05d-848a-44cf-b608-cb34b5701ae5</td>\n",
       "      <td>Faster Pussycat</td>\n",
       "      <td>265.16853</td>\n",
       "      <td>0.649822</td>\n",
       "      <td>0.394032</td>\n",
       "      <td>1989.0</td>\n",
       "      <td>{'80s': 27.0, 'rock': 63.0, 'rock n roll': 18....</td>\n",
       "      <td>[heavy metal, industrial metal, hard rock, gla...</td>\n",
       "      <td>NaN</td>\n",
       "      <td>5411bf5ca6fa50a504bce1ef7d44c5f2ae4638ca</td>\n",
       "      <td>1</td>\n",
       "    </tr>\n",
       "    <tr>\n",
       "      <th>3</th>\n",
       "      <td>TRHZAVC128F148A1C4</td>\n",
       "      <td>House Of Pain (LP Version)</td>\n",
       "      <td>SOSMFOK12A58A7FE92</td>\n",
       "      <td>Rhino Hi-Five: Faster Pussycat</td>\n",
       "      <td>ARYZTJS1187B98C555</td>\n",
       "      <td>357ff05d-848a-44cf-b608-cb34b5701ae5</td>\n",
       "      <td>Faster Pussycat</td>\n",
       "      <td>344.65914</td>\n",
       "      <td>0.649822</td>\n",
       "      <td>0.394032</td>\n",
       "      <td>NaN</td>\n",
       "      <td>{'70s': 0.0, '80s': 66.0, 'rock': 100.0, 'meta...</td>\n",
       "      <td>[heavy metal, industrial metal, hard rock, gla...</td>\n",
       "      <td>NaN</td>\n",
       "      <td>8b037ca0e5d30e7ef25b5463b9c82973f5c750ea</td>\n",
       "      <td>1</td>\n",
       "    </tr>\n",
       "    <tr>\n",
       "      <th>4</th>\n",
       "      <td>TRHZAVC128F148A1C4</td>\n",
       "      <td>House Of Pain (LP Version)</td>\n",
       "      <td>SOSMFOK12A58A7FE92</td>\n",
       "      <td>Rhino Hi-Five: Faster Pussycat</td>\n",
       "      <td>ARYZTJS1187B98C555</td>\n",
       "      <td>357ff05d-848a-44cf-b608-cb34b5701ae5</td>\n",
       "      <td>Faster Pussycat</td>\n",
       "      <td>344.65914</td>\n",
       "      <td>0.649822</td>\n",
       "      <td>0.394032</td>\n",
       "      <td>NaN</td>\n",
       "      <td>{'70s': 0.0, '80s': 66.0, 'rock': 100.0, 'meta...</td>\n",
       "      <td>[heavy metal, industrial metal, hard rock, gla...</td>\n",
       "      <td>NaN</td>\n",
       "      <td>297fe67d7b1d8a8b1cdb78ab5239203a39a2a3a0</td>\n",
       "      <td>2</td>\n",
       "    </tr>\n",
       "  </tbody>\n",
       "</table>\n",
       "</div>"
      ],
      "text/plain": [
       "             track_id                           title             song_id  \\\n",
       "0  TRMRSPR128F1486162            Friends (LP Version)  SOIASSQ12A6D4FA5A4   \n",
       "1  TRWMLGY128F148A1C3  Shooting You Down (LP Version)  SOYXZOF12A6D4F96AC   \n",
       "2  TRWBHIN128F425A381             Arizona Indian Doll  SOMLCSC12A8C139300   \n",
       "3  TRHZAVC128F148A1C4      House Of Pain (LP Version)  SOSMFOK12A58A7FE92   \n",
       "4  TRHZAVC128F148A1C4      House Of Pain (LP Version)  SOSMFOK12A58A7FE92   \n",
       "\n",
       "                                 release           artist_id  \\\n",
       "0                                Whipped  ARYZTJS1187B98C555   \n",
       "1         Rhino Hi-Five: Faster Pussycat  ARYZTJS1187B98C555   \n",
       "2  Between The Valley Of The Ultra Pussy  ARYZTJS1187B98C555   \n",
       "3         Rhino Hi-Five: Faster Pussycat  ARYZTJS1187B98C555   \n",
       "4         Rhino Hi-Five: Faster Pussycat  ARYZTJS1187B98C555   \n",
       "\n",
       "                            artist_mbid      artist_name   duration  \\\n",
       "0  357ff05d-848a-44cf-b608-cb34b5701ae5  Faster Pussycat  287.81669   \n",
       "1  357ff05d-848a-44cf-b608-cb34b5701ae5  Faster Pussycat  227.94404   \n",
       "2  357ff05d-848a-44cf-b608-cb34b5701ae5  Faster Pussycat  265.16853   \n",
       "3  357ff05d-848a-44cf-b608-cb34b5701ae5  Faster Pussycat  344.65914   \n",
       "4  357ff05d-848a-44cf-b608-cb34b5701ae5  Faster Pussycat  344.65914   \n",
       "\n",
       "   artist_familiarity  artist_hotttnesss    year  \\\n",
       "0            0.649822           0.394032     NaN   \n",
       "1            0.649822           0.394032     NaN   \n",
       "2            0.649822           0.394032  1989.0   \n",
       "3            0.649822           0.394032     NaN   \n",
       "4            0.649822           0.394032     NaN   \n",
       "\n",
       "                                     track_genre_val  \\\n",
       "0  {'80s': 25.0, 'rock': 100.0, 'hard rock': 100....   \n",
       "1  {'rock': 50.0, 'hard rock': 100.0, 'hair metal...   \n",
       "2  {'80s': 27.0, 'rock': 63.0, 'rock n roll': 18....   \n",
       "3  {'70s': 0.0, '80s': 66.0, 'rock': 100.0, 'meta...   \n",
       "4  {'70s': 0.0, '80s': 66.0, 'rock': 100.0, 'meta...   \n",
       "\n",
       "                                         artist_term artist_mbtag  \\\n",
       "0  [heavy metal, industrial metal, hard rock, gla...          NaN   \n",
       "1  [heavy metal, industrial metal, hard rock, gla...          NaN   \n",
       "2  [heavy metal, industrial metal, hard rock, gla...          NaN   \n",
       "3  [heavy metal, industrial metal, hard rock, gla...          NaN   \n",
       "4  [heavy metal, industrial metal, hard rock, gla...          NaN   \n",
       "\n",
       "                                    user_id  count  \n",
       "0  f499a469fdf0f01a114eff3ffc45f07eb1038211      1  \n",
       "1  565a013a24c2ec710ff6611187389b6b92251bfb      1  \n",
       "2  5411bf5ca6fa50a504bce1ef7d44c5f2ae4638ca      1  \n",
       "3  8b037ca0e5d30e7ef25b5463b9c82973f5c750ea      1  \n",
       "4  297fe67d7b1d8a8b1cdb78ab5239203a39a2a3a0      2  "
      ]
     },
     "execution_count": 34,
     "metadata": {},
     "output_type": "execute_result"
    }
   ],
   "source": [
    "df_plot.head()"
   ]
  },
  {
   "cell_type": "code",
   "execution_count": null,
   "metadata": {},
   "outputs": [],
   "source": [
    "# id is string type, we change it to int for later join\n",
    "id_genre_spark_df = id_genre_spark_df.withColumn('id', id_genre_spark_df['id'].cast(IntegerType()))\n",
    "\n",
    "# explode item factors\n",
    "itemFactors_exploded = itemFactors.select(\"id\", itemFactors.features[0], itemFactors.features[1], itemFactors.features[2], itemFactors.features[3], itemFactors.features[4], \\\n",
    "                                                itemFactors.features[5], itemFactors.features[6], itemFactors.features[7], itemFactors.features[8], itemFactors.features[9])\n",
    "\n",
    "id_itemFactor_spark_df = id_genre_spark_df.join(itemFactors_exploded, on = 'id', how = 'inner' )\n",
    "\n",
    "# extract factors as 10-dimension vectors\n",
    "data = np.array(id_itemFactor_spark_df.select('features[0]', 'features[1]', 'features[2]', 'features[3]', 'features[4]', 'features[5]', 'features[6]', 'features[7]', 'features[8]', 'features[9]').collect())\n",
    "\n",
    "# extract labels, some book doesn't have any label so change that to 'none' genre\n",
    "labels = np.array(['none' if label is None else label for label in [row[0] for row in id_itemFactor_spark_df.select('genre').collect()]])"
   ]
  },
  {
   "cell_type": "code",
   "execution_count": null,
   "metadata": {},
   "outputs": [],
   "source": [
    "start_time = time.time()"
   ]
  },
  {
   "cell_type": "code",
   "execution_count": 290,
   "metadata": {},
   "outputs": [
    {
     "ename": "NameError",
     "evalue": "name 'UMAP' is not defined",
     "output_type": "error",
     "traceback": [
      "\u001b[0;31m---------------------------------------------------------------------------\u001b[0m",
      "\u001b[0;31mNameError\u001b[0m                                 Traceback (most recent call last)",
      "\u001b[0;32m<ipython-input-290-b5d37805b39b>\u001b[0m in \u001b[0;36m<module>\u001b[0;34m\u001b[0m\n\u001b[0;32m----> 1\u001b[0;31m \u001b[0mmapper\u001b[0m \u001b[0;34m=\u001b[0m \u001b[0mUMAP\u001b[0m\u001b[0;34m(\u001b[0m\u001b[0mrandom_state\u001b[0m\u001b[0;34m=\u001b[0m\u001b[0;36m66\u001b[0m\u001b[0;34m,\u001b[0m \u001b[0mn_components\u001b[0m\u001b[0;34m=\u001b[0m\u001b[0;36m2\u001b[0m\u001b[0;34m,\u001b[0m \u001b[0mverbose\u001b[0m \u001b[0;34m=\u001b[0m \u001b[0;32mTrue\u001b[0m\u001b[0;34m)\u001b[0m\u001b[0;34m.\u001b[0m\u001b[0mfit\u001b[0m\u001b[0;34m(\u001b[0m\u001b[0mdf_plot\u001b[0m\u001b[0;34m)\u001b[0m\u001b[0;34m\u001b[0m\u001b[0;34m\u001b[0m\u001b[0m\n\u001b[0m",
      "\u001b[0;31mNameError\u001b[0m: name 'UMAP' is not defined"
     ]
    }
   ],
   "source": [
    "mapper = umap.UMAP(random_state=66, n_components=2, verbose = True).fit(df_plot)"
   ]
  },
  {
   "cell_type": "code",
   "execution_count": null,
   "metadata": {},
   "outputs": [],
   "source": [
    "umap.plot.points(mapper, labels = sample_labels, theme = 'fire')\n",
    "plt.savefig('10_0.01_100_percent_400k_66.eps')"
   ]
  },
  {
   "cell_type": "code",
   "execution_count": null,
   "metadata": {},
   "outputs": [],
   "source": [
    "end_time = time.time()"
   ]
  },
  {
   "cell_type": "code",
   "execution_count": null,
   "metadata": {},
   "outputs": [],
   "source": [
    "str(datetime.timedelta(seconds = end_time - start_time))"
   ]
  }
 ],
 "metadata": {
  "kernelspec": {
   "display_name": "Python 3",
   "language": "python",
   "name": "python3"
  },
  "language_info": {
   "codemirror_mode": {
    "name": "ipython",
    "version": 3
   },
   "file_extension": ".py",
   "mimetype": "text/x-python",
   "name": "python",
   "nbconvert_exporter": "python",
   "pygments_lexer": "ipython3",
   "version": "3.8.6"
  }
 },
 "nbformat": 4,
 "nbformat_minor": 4
}
